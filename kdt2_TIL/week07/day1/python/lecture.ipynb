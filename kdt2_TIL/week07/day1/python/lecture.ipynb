{
 "cells": [
  {
   "cell_type": "code",
   "execution_count": 5,
   "metadata": {},
   "outputs": [
    {
     "name": "stdout",
     "output_type": "stream",
     "text": [
      "0\n",
      "1\n",
      "2\n",
      "4\n",
      "5\n",
      "6\n",
      "3\n",
      "CPU times: total: 0 ns\n",
      "Wall time: 0 ns\n"
     ]
    }
   ],
   "source": [
    "%%time\n",
    "\n",
    "graph = [\n",
    "    [1, 2],\n",
    "    [0, 3, 4],\n",
    "    [0, 4, 5],\n",
    "    [1],\n",
    "    [1, 2, 6],\n",
    "    [2],\n",
    "    [4]\n",
    "]\n",
    "n = len(graph)\n",
    "\n",
    "visited = [False] * n\n",
    "\n",
    "def dfs(start):\n",
    "    stack = [start]\n",
    "    visited[start] = True\n",
    "    print(start)\n",
    "    \n",
    "    while stack:\n",
    "        cur = stack.pop()\n",
    "        # print(cur)\n",
    "        \n",
    "        for adj in graph[cur]:\n",
    "            if not visited[adj]:\n",
    "                visited[adj] = True\n",
    "                print(adj)\n",
    "                stack.append(adj)\n",
    "    \n",
    "    \n",
    "dfs(0)"
   ]
  }
 ],
 "metadata": {
  "kernelspec": {
   "display_name": "Python 3",
   "language": "python",
   "name": "python3"
  },
  "language_info": {
   "codemirror_mode": {
    "name": "ipython",
    "version": 3
   },
   "file_extension": ".py",
   "mimetype": "text/x-python",
   "name": "python",
   "nbconvert_exporter": "python",
   "pygments_lexer": "ipython3",
   "version": "3.11.1"
  },
  "orig_nbformat": 4,
  "vscode": {
   "interpreter": {
    "hash": "1682e5d06a6d97c1b1cf6bb4ae6cf16223e994936ddb1d53664597d7d46101fa"
   }
  }
 },
 "nbformat": 4,
 "nbformat_minor": 2
}

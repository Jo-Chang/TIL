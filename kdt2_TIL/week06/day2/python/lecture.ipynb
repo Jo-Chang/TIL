{
 "cells": [
  {
   "cell_type": "code",
   "execution_count": null,
   "metadata": {},
   "outputs": [],
   "source": [
    "%%time\n",
    "\n",
    "list_2d_2 = []\n",
    "\n",
    "for _ in range(10**4):\n",
    "    row = [0] * (10 ** 4)\n",
    "    list_2d_2.append(row)\n",
    "    \n",
    "print(len(list_2d_2), len(list_2d_2[0]))"
   ]
  },
  {
   "cell_type": "code",
   "execution_count": 5,
   "metadata": {},
   "outputs": [
    {
     "name": "stdout",
     "output_type": "stream",
     "text": [
      "[1, 2, 3, 4, 5] [None, None, None, None, None]\n",
      "2\n",
      "[None, None, None, None, 1]\n",
      "3\n",
      "[2, None, None, None, 1]\n",
      "4\n",
      "[2, 3, None, None, 1]\n",
      "0\n",
      "[2, 3, 4, None, 1]\n",
      "1\n",
      "[2, 3, 4, 5, 1]\n",
      "[1, 2, 3, 4, 5]\n",
      "[5, 1, 2, 3, 4]\n",
      "[4, 5, 1, 2, 3]\n",
      "[3, 4, 5, 1, 2]\n",
      "[2, 3, 4, 5, 1]\n",
      "CPU times: total: 0 ns\n",
      "Wall time: 1 ms\n"
     ]
    }
   ],
   "source": [
    "%%time\n",
    "# [1, 2, 3, 4, 5]\n",
    "# n == 1 : [2, 3, 4, 5, 1]\n",
    "# n == 2 : [3, 4, 5, 1, 2]\n",
    "\n",
    "a = [1, 2, 3, 4, 5]\n",
    "N = len(a)\n",
    "new_a = [None for _ in range(N)]\n",
    "print(a, new_a)\n",
    "\n",
    "n = 2\n",
    "for i in range(N):\n",
    "    print((i+n)%N)\n",
    "    new_a[i - 1] = a[i]\n",
    "    print(new_a)\n",
    "    \n",
    "# n == 1: [5, 1, 2, 3, 4]\n",
    "# n == 2: [4, 5, 1, 2, 3]\n",
    "\n",
    "for n in range(5):\n",
    "    print(a[-n:] + a[:-n])\n",
    "    \n",
    "    "
   ]
  },
  {
   "cell_type": "code",
   "execution_count": null,
   "metadata": {},
   "outputs": [],
   "source": [
    "from collections import deque\n",
    "\n",
    "a = [1, 2, 3, 4, 5]\n",
    "d = deque(a)\n",
    "d.rotate(2)\n",
    "print(d)"
   ]
  },
  {
   "cell_type": "code",
   "execution_count": null,
   "metadata": {},
   "outputs": [],
   "source": [
    "matrix = [\n",
    "    [1, 2, 3, 4],\n",
    "    [5, 6, 7, 8],\n",
    "    [9, 10, 11, 12]\n",
    "]\n",
    "\n",
    "print(matrix)\n",
    "# 1. 행 우선 순회\n",
    "N = len(matrix)\n",
    "M = len(matrix[0])\n",
    "\n",
    "for i in range(N):\n",
    "    for j in range(M):\n",
    "        print('%2d'%matrix[i][j], end=\" \")\n",
    "    print()\n",
    "    \n",
    "for i in range(N):\n",
    "    for j in range(M):\n",
    "        print('%02d'%matrix[i][j], end=\" \")\n",
    "    print()"
   ]
  }
 ],
 "metadata": {
  "kernelspec": {
   "display_name": "Python 3",
   "language": "python",
   "name": "python3"
  },
  "language_info": {
   "codemirror_mode": {
    "name": "ipython",
    "version": 3
   },
   "file_extension": ".py",
   "mimetype": "text/x-python",
   "name": "python",
   "nbconvert_exporter": "python",
   "pygments_lexer": "ipython3",
   "version": "3.11.1 (tags/v3.11.1:a7a450f, Dec  6 2022, 19:58:39) [MSC v.1934 64 bit (AMD64)]"
  },
  "orig_nbformat": 4,
  "vscode": {
   "interpreter": {
    "hash": "1682e5d06a6d97c1b1cf6bb4ae6cf16223e994936ddb1d53664597d7d46101fa"
   }
  }
 },
 "nbformat": 4,
 "nbformat_minor": 2
}

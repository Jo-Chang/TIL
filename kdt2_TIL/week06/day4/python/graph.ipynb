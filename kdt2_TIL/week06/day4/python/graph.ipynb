{
 "cells": [
  {
   "cell_type": "code",
   "execution_count": 2,
   "metadata": {},
   "outputs": [
    {
     "name": "stdout",
     "output_type": "stream",
     "text": [
      "[[0, 1, 1, 0, 0, 0, 0],\n",
      " [1, 0, 0, 1, 0, 0, 0],\n",
      " [1, 0, 0, 0, 0, 0, 0],\n",
      " [0, 1, 0, 0, 0, 0, 0],\n",
      " [0, 0, 0, 0, 0, 0, 0],\n",
      " [0, 0, 0, 0, 0, 0, 0],\n",
      " [0, 0, 0, 0, 0, 0, 0]]\n",
      "CPU times: total: 0 ns\n",
      "Wall time: 1 ms\n"
     ]
    }
   ],
   "source": [
    "%%time\n",
    "from pprint import pprint\n",
    "# 0 1\n",
    "# 0 2\n",
    "# 1 3\n",
    "# 1 4\n",
    "# 2 4\n",
    "# 2 5\n",
    "# 4 6\n",
    "\n",
    "# 인접 행렬\n",
    "# 7 * 7\n",
    "# 정점간의 관계를 표현하고 있는 행렬\n",
    "# 정점의 개수인 N에 의해 크기가 정해짐\n",
    "\n",
    "N = 7\n",
    "M = 7 # Input, 간선의 개수\n",
    "graph = [[0] * N for _ in range(N)]\n",
    "\n",
    "graph[0][1] = 1\n",
    "graph[1][0] = 1\n",
    "\n",
    "graph[0][2] = 1\n",
    "graph[2][0] = 1\n",
    "\n",
    "graph[1][3] = 1\n",
    "graph[3][1] = 1\n",
    "\n",
    "pprint(graph)\n",
    "\n",
    "'''\n",
    "for T in range(input):\n",
    "    graph[v1][v2] = 1\n",
    "    graph[v2][v1] = 1\n",
    "'''"
   ]
  },
  {
   "cell_type": "code",
   "execution_count": null,
   "metadata": {},
   "outputs": [],
   "source": [
    "# 인접 리스트 만들기\n",
    "\n",
    "n = 7 # 정점 개수\n",
    "m = 7 # 간선 개수\n",
    "\n",
    "graph = [[] for _ in range(n)]\n",
    "\n",
    "for _ in range(m):\n",
    "    # v1, v2 = map(int, input().split())\n",
    "    v1, v2 = 0, 1\n",
    "    graph[v1].append(v2)\n",
    "    graph[v2].append(v1)"
   ]
  }
 ],
 "metadata": {
  "kernelspec": {
   "display_name": "Python 3",
   "language": "python",
   "name": "python3"
  },
  "language_info": {
   "codemirror_mode": {
    "name": "ipython",
    "version": 3
   },
   "file_extension": ".py",
   "mimetype": "text/x-python",
   "name": "python",
   "nbconvert_exporter": "python",
   "pygments_lexer": "ipython3",
   "version": "3.11.1"
  },
  "orig_nbformat": 4,
  "vscode": {
   "interpreter": {
    "hash": "1682e5d06a6d97c1b1cf6bb4ae6cf16223e994936ddb1d53664597d7d46101fa"
   }
  }
 },
 "nbformat": 4,
 "nbformat_minor": 2
}

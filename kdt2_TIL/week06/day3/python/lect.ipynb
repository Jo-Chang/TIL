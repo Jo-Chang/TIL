{
 "cells": [
  {
   "cell_type": "code",
   "execution_count": 18,
   "metadata": {},
   "outputs": [
    {
     "name": "stdout",
     "output_type": "stream",
     "text": [
      "[(1, 5, 9), (2, 6, 8), (3, 7, 0)]\n",
      "[(9, 5, 1), (8, 6, 2), (0, 7, 3)]\n",
      "[(9, 5, 1), (8, 6, 2), (0, 7, 3), (None, 8, 4)]\n"
     ]
    }
   ],
   "source": [
    "from pprint import pprint\n",
    "from itertools import zip_longest\n",
    "\n",
    "matrix = [\n",
    "    [1, 2, 3, 4],\n",
    "    [5, 6, 7, 8],\n",
    "    [9, 8, 0]\n",
    "]\n",
    "\n",
    "pprint(list(zip(*matrix)))\n",
    "\n",
    "pprint(list(zip(*matrix[::-1])))\n",
    "\n",
    "pprint(list(zip_longest(*matrix[::-1])))"
   ]
  },
  {
   "cell_type": "code",
   "execution_count": 19,
   "metadata": {},
   "outputs": [],
   "source": [
    "n, m = 3, 3\n",
    "\n",
    "# 1. 델타값 정의(상하좌우)\n",
    "dx = [-1, 1, 0, 0]\n",
    "dy = [0, 0, -1, 1]\n",
    "\n",
    "# 2. 이차원 리스트 순회\n",
    "for x in range(n):\n",
    "    for y in range(m):\n",
    "        \n",
    "        # 3. 델타값을 이용해 상하좌우 이동\n",
    "        for i in range(4):\n",
    "            nx = x + dx[i]\n",
    "            ny = y + dy[i]\n",
    "            \n",
    "            # 4. 범위를 벗어나지 않으면 갱신\n",
    "            if 0 <= nx < n and 0 <= ny < m:\n",
    "                x = nx\n",
    "                y = ny"
   ]
  },
  {
   "cell_type": "code",
   "execution_count": null,
   "metadata": {},
   "outputs": [],
   "source": [
    "# 상, 하, 좌, 우, 좌상, 좌하, 우상, 우하\n",
    "\n",
    "dx = [-1, 1, 0, 0, -1, 1, -1, 1]\n",
    "dy = [0, 0, -1, 1, -1, -1, 1, 1]"
   ]
  },
  {
   "cell_type": "code",
   "execution_count": 27,
   "metadata": {},
   "outputs": [
    {
     "name": "stdout",
     "output_type": "stream",
     "text": [
      "1 1\n",
      "pos-1: (0, 1)\n",
      "pos-2: (2, 1)\n",
      "pos-3: (1, 0)\n",
      "pos-4: (1, 2)\n",
      "=====\n",
      "pos-4: (0, 1)\n",
      "pos-4: (2, 1)\n",
      "pos-4: (1, 0)\n",
      "pos-4: (1, 2)\n"
     ]
    }
   ],
   "source": [
    "x = 1\n",
    "y = 1\n",
    "print(x, y)\n",
    "\n",
    "dx = [-1, 1, 0, 0]\n",
    "dy = [0, 0, -1, 1]\n",
    "\n",
    "for i in range(4):\n",
    "    print(f\"pos-{i+1}: ({x + dx[i]}, {y + dy[i]})\")\n",
    "\n",
    "print(\"=====\")\n",
    "\n",
    "delta = list(zip(dx, dy))\n",
    "for dx2, dy2 in delta:\n",
    "    print(f\"pos-{i+1}: ({x + dx2}, {y + dy2})\")"
   ]
  }
 ],
 "metadata": {
  "kernelspec": {
   "display_name": "Python 3",
   "language": "python",
   "name": "python3"
  },
  "language_info": {
   "codemirror_mode": {
    "name": "ipython",
    "version": 3
   },
   "file_extension": ".py",
   "mimetype": "text/x-python",
   "name": "python",
   "nbconvert_exporter": "python",
   "pygments_lexer": "ipython3",
   "version": "3.11.1"
  },
  "orig_nbformat": 4,
  "vscode": {
   "interpreter": {
    "hash": "1682e5d06a6d97c1b1cf6bb4ae6cf16223e994936ddb1d53664597d7d46101fa"
   }
  }
 },
 "nbformat": 4,
 "nbformat_minor": 2
}
